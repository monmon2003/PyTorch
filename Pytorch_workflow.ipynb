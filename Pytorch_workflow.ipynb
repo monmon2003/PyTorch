{
  "nbformat": 4,
  "nbformat_minor": 0,
  "metadata": {
    "colab": {
      "provenance": [],
      "authorship_tag": "ABX9TyPyOCchwKmvZWjYai74fc3W",
      "include_colab_link": true
    },
    "kernelspec": {
      "name": "python3",
      "display_name": "Python 3"
    },
    "language_info": {
      "name": "python"
    }
  },
  "cells": [
    {
      "cell_type": "markdown",
      "metadata": {
        "id": "view-in-github",
        "colab_type": "text"
      },
      "source": [
        "<a href=\"https://colab.research.google.com/github/monmon2003/PyTorch/blob/main/Pytorch_workflow.ipynb\" target=\"_parent\"><img src=\"https://colab.research.google.com/assets/colab-badge.svg\" alt=\"Open In Colab\"/></a>"
      ]
    },
    {
      "cell_type": "markdown",
      "source": [
        "# PyTorch Workflow\n",
        "Let's explore an example PyTorch end-to-end workflow."
      ],
      "metadata": {
        "id": "3x7RBi-Ai-Lz"
      }
    },
    {
      "cell_type": "code",
      "execution_count": null,
      "metadata": {
        "id": "HJe4b1NxiLhP"
      },
      "outputs": [],
      "source": [
        "what_we_are_covering = {1:\"data(prepare and load)\",\n",
        "                        2: \"build model\",\n",
        "                        3:\"fitting the model to data (training)\",\n",
        "                        4:\"making predictions and evaluating a model (inference)\",\n",
        "                        5: \"saving and loading a model\",\n",
        "                        6: \"putting it all together\"\n",
        "                        }\n"
      ]
    },
    {
      "cell_type": "code",
      "source": [
        "import torch\n",
        "from torch import nn ## nn contains all the building blocks of neural networks\n",
        "import matplotlib.pyplot as plt\n",
        "\n",
        "# Check PyTorch version\n",
        "torch.__version__"
      ],
      "metadata": {
        "colab": {
          "base_uri": "https://localhost:8080/",
          "height": 36
        },
        "id": "fxVRkgL5i7ZN",
        "outputId": "13f89312-9161-4021-ee18-591bd843c80a"
      },
      "execution_count": null,
      "outputs": [
        {
          "output_type": "execute_result",
          "data": {
            "text/plain": [
              "'2.1.0+cu121'"
            ],
            "application/vnd.google.colaboratory.intrinsic+json": {
              "type": "string"
            }
          },
          "metadata": {},
          "execution_count": 200
        }
      ]
    },
    {
      "cell_type": "markdown",
      "source": [
        "## Data Preparation and Loading\n",
        "Data can be almost anything..  in machine learning.\n",
        "* Excel Spreadsheet\n",
        "* Images of any kind\n",
        "* Videos\n",
        "* Audio like songs or podcast\n",
        "* DNA\n",
        "* Text\n",
        "ML is a game of two parts:\n",
        "1. Get data into a numerical representation\n",
        "2. Build a model to learn patterns in that numerical representation"
      ],
      "metadata": {
        "id": "6edBKhoOkkK8"
      }
    },
    {
      "cell_type": "code",
      "source": [
        "# Create *Known* parameters\n",
        "weight = 0.7\n",
        "bias = 0.3\n",
        "# Create\n",
        "start = 0\n",
        "end = 1\n",
        "step = 0.02\n",
        "X = torch.arange(start,end,step).unsqueeze(dim=1)\n",
        "y = weight*X + bias\n",
        "X[:10],y[:10]"
      ],
      "metadata": {
        "colab": {
          "base_uri": "https://localhost:8080/"
        },
        "id": "yjPFGGOEkb22",
        "outputId": "586e55f2-4b2c-4bb6-9d03-bcb8ec5f4198"
      },
      "execution_count": null,
      "outputs": [
        {
          "output_type": "execute_result",
          "data": {
            "text/plain": [
              "(tensor([[0.0000],\n",
              "         [0.0200],\n",
              "         [0.0400],\n",
              "         [0.0600],\n",
              "         [0.0800],\n",
              "         [0.1000],\n",
              "         [0.1200],\n",
              "         [0.1400],\n",
              "         [0.1600],\n",
              "         [0.1800]]),\n",
              " tensor([[0.3000],\n",
              "         [0.3140],\n",
              "         [0.3280],\n",
              "         [0.3420],\n",
              "         [0.3560],\n",
              "         [0.3700],\n",
              "         [0.3840],\n",
              "         [0.3980],\n",
              "         [0.4120],\n",
              "         [0.4260]]))"
            ]
          },
          "metadata": {},
          "execution_count": 201
        }
      ]
    },
    {
      "cell_type": "code",
      "source": [
        "X.shape"
      ],
      "metadata": {
        "colab": {
          "base_uri": "https://localhost:8080/"
        },
        "id": "WmY0NEzGmQTk",
        "outputId": "d8cc93bc-d5e2-4338-9250-6f88838613a6"
      },
      "execution_count": null,
      "outputs": [
        {
          "output_type": "execute_result",
          "data": {
            "text/plain": [
              "torch.Size([50, 1])"
            ]
          },
          "metadata": {},
          "execution_count": 202
        }
      ]
    },
    {
      "cell_type": "code",
      "source": [
        "len(X),len(y)"
      ],
      "metadata": {
        "colab": {
          "base_uri": "https://localhost:8080/"
        },
        "id": "OifargWWm6Ne",
        "outputId": "f9d1a0f3-dc3c-425b-f36a-97a661b1beb6"
      },
      "execution_count": null,
      "outputs": [
        {
          "output_type": "execute_result",
          "data": {
            "text/plain": [
              "(50, 50)"
            ]
          },
          "metadata": {},
          "execution_count": 203
        }
      ]
    },
    {
      "cell_type": "markdown",
      "source": [
        "### Splitting data into training and test sets"
      ],
      "metadata": {
        "id": "0QonkaVVnoul"
      }
    },
    {
      "cell_type": "code",
      "source": [
        "# create a train/test split\n",
        "train_split = int(0.8*len(X))\n",
        "X_train, y_train = X[:train_split], y[:train_split]\n",
        "X_test, y_test = X[train_split:],y[train_split:]\n",
        "\n",
        "len(X_train), len(y_train), len(X_test), len(y_test)"
      ],
      "metadata": {
        "colab": {
          "base_uri": "https://localhost:8080/"
        },
        "id": "OER71xwjnjyR",
        "outputId": "affe812b-b4fd-4d5c-c89f-35f64381da7a"
      },
      "execution_count": null,
      "outputs": [
        {
          "output_type": "execute_result",
          "data": {
            "text/plain": [
              "(40, 40, 10, 10)"
            ]
          },
          "metadata": {},
          "execution_count": 204
        }
      ]
    },
    {
      "cell_type": "code",
      "source": [
        "def plot_predictions(train_data = X_train,\n",
        "                     train_labels = y_train,\n",
        "                     test_data = X_test,\n",
        "                     test_labels = y_test,\n",
        "                     predictions = None):\n",
        "  \"\"\"\n",
        "  Plots training data, test data and compares predictions\n",
        "\n",
        "  \"\"\"\n",
        "  plt.figure(figsize=(10,7))\n",
        "\n",
        "  # Plot training data in yellow\n",
        "  plt.scatter(train_data, train_labels, c='y', s=20, label=\"Training Data\")\n",
        "\n",
        "  # Plot test data in blue\n",
        "  plt.scatter(test_data, test_labels, c='b', s=20, label=\"Testing Data\")\n",
        "\n",
        "  # Are there predictions?\n",
        "  if predictions is not None:\n",
        "    # Plot the predictionz if they exist\n",
        "    plt.scatter(test_data, predictions, c='r', s=20, label=\"Predictions\")\n",
        "  plt.legend(prop={\"size\":14})"
      ],
      "metadata": {
        "id": "FkQS8wTRosXl"
      },
      "execution_count": null,
      "outputs": []
    },
    {
      "cell_type": "code",
      "source": [
        "plot_predictions()"
      ],
      "metadata": {
        "colab": {
          "base_uri": "https://localhost:8080/",
          "height": 460
        },
        "id": "Ymf7U6zUDJQZ",
        "outputId": "4654812e-d000-487b-b499-1123c8925b16"
      },
      "execution_count": null,
      "outputs": [
        {
          "output_type": "display_data",
          "data": {
            "text/plain": [
              "<Figure size 1000x700 with 1 Axes>"
            ],
            "image/png": "[encoded data removed]"
          },
          "metadata": {}
        }
      ]
    },
    {
      "cell_type": "markdown",
      "source": [
        "## 2. Build the Model"
      ],
      "metadata": {
        "id": "EmXTmeL2kSWB"
      }
    },
    {
      "cell_type": "code",
      "source": [
        "# Create linear regression model class\n",
        "\n",
        "# almost everything in pytorch inherits from nn.Module\n",
        "class LinearRegressionModel(nn.Module):\n",
        "  def __init__(self):\n",
        "    super().__init__()\n",
        "    self.weights = nn.Parameter(torch.randn(1,\n",
        "                                            requires_grad=True,\n",
        "                                            dtype=torch.float32))\n",
        "    self.bias = nn.Parameter(torch.randn(1,\n",
        "                                        requires_grad=True,\n",
        "                                        dtype=torch.float32))\n",
        "\n",
        "    # Forward method to define the computation in the model\n",
        "  def forward(self,x: torch.Tensor) -> torch.Tensor:\n",
        "      return self.weights * x + self.bias\n",
        "\n"
      ],
      "metadata": {
        "id": "xT0tFh_jDQmd"
      },
      "execution_count": null,
      "outputs": []
    },
    {
      "cell_type": "markdown",
      "source": [
        "## Checking the contents of our PyTorch model\n",
        "so we can check our model parameters or what's inside our model using .parameters()"
      ],
      "metadata": {
        "id": "kIX3S6dLtPND"
      }
    },
    {
      "cell_type": "code",
      "source": [
        "# Create a random seed\n",
        "torch.manual_seed(42)\n",
        "\n",
        "# Create an instance of the model ( this is a subclass of nn.Module)\n",
        "model_0 = LinearRegressionModel()\n",
        "\n",
        "# Check out the parameters\n",
        "list(model_0.parameters())"
      ],
      "metadata": {
        "colab": {
          "base_uri": "https://localhost:8080/"
        },
        "id": "76O2YReHtdtJ",
        "outputId": "cabd408f-f713-4327-9c4c-2be1e7473381"
      },
      "execution_count": null,
      "outputs": [
        {
          "output_type": "execute_result",
          "data": {
            "text/plain": [
              "[Parameter containing:\n",
              " tensor([0.3367], requires_grad=True),\n",
              " Parameter containing:\n",
              " tensor([0.1288], requires_grad=True)]"
            ]
          },
          "metadata": {},
          "execution_count": 208
        }
      ]
    },
    {
      "cell_type": "code",
      "source": [
        "# List named parameters\n",
        "model_0.state_dict()"
      ],
      "metadata": {
        "colab": {
          "base_uri": "https://localhost:8080/"
        },
        "id": "66fpzzC3t4c3",
        "outputId": "ff023f83-dd8e-4c47-a3a3-56073783791a"
      },
      "execution_count": null,
      "outputs": [
        {
          "output_type": "execute_result",
          "data": {
            "text/plain": [
              "OrderedDict([('weights', tensor([0.3367])), ('bias', tensor([0.1288]))])"
            ]
          },
          "metadata": {},
          "execution_count": 209
        }
      ]
    },
    {
      "cell_type": "markdown",
      "source": [
        "# Making predictions using `torch.inference_mode()`\n",
        "To check our model's predicitve power, let's see how well it predicts `y_test` based on `x_test`. When we pass data through our model, it's going to run it through the `forward()` method."
      ],
      "metadata": {
        "id": "Nz-3HW8avWGI"
      }
    },
    {
      "cell_type": "code",
      "source": [
        "# Make predictions with model\n",
        "with torch.inference_mode():\n",
        "  y_preds = model_0(X_test)\n",
        "\n",
        "# You can do the same thing with no_grad() but inference_mode() is better\n",
        "with torch.no_grad():\n",
        "  y_preds = model_0(X_test)\n",
        "\n",
        "y_preds"
      ],
      "metadata": {
        "colab": {
          "base_uri": "https://localhost:8080/"
        },
        "id": "GKg1NoA3uyc6",
        "outputId": "7fa2768f-dc3d-4c98-bb1c-7bcd8c796cd2"
      },
      "execution_count": null,
      "outputs": [
        {
          "output_type": "execute_result",
          "data": {
            "text/plain": [
              "tensor([[0.3982],\n",
              "        [0.4049],\n",
              "        [0.4116],\n",
              "        [0.4184],\n",
              "        [0.4251],\n",
              "        [0.4318],\n",
              "        [0.4386],\n",
              "        [0.4453],\n",
              "        [0.4520],\n",
              "        [0.4588]])"
            ]
          },
          "metadata": {},
          "execution_count": 210
        }
      ]
    },
    {
      "cell_type": "code",
      "source": [
        "y_test"
      ],
      "metadata": {
        "colab": {
          "base_uri": "https://localhost:8080/"
        },
        "id": "eQ-aJrDrwPMn",
        "outputId": "51d16e00-d099-48db-ddbc-f9052019a87a"
      },
      "execution_count": null,
      "outputs": [
        {
          "output_type": "execute_result",
          "data": {
            "text/plain": [
              "tensor([[0.8600],\n",
              "        [0.8740],\n",
              "        [0.8880],\n",
              "        [0.9020],\n",
              "        [0.9160],\n",
              "        [0.9300],\n",
              "        [0.9440],\n",
              "        [0.9580],\n",
              "        [0.9720],\n",
              "        [0.9860]])"
            ]
          },
          "metadata": {},
          "execution_count": 211
        }
      ]
    },
    {
      "cell_type": "code",
      "source": [
        "plot_predictions(predictions=y_preds)"
      ],
      "metadata": {
        "colab": {
          "base_uri": "https://localhost:8080/",
          "height": 460
        },
        "id": "VVyopEQrvHOo",
        "outputId": "6af0b6d0-3a50-4985-84bf-b9e8e477d175"
      },
      "execution_count": null,
      "outputs": [
        {
          "output_type": "display_data",
          "data": {
            "text/plain": [
              "<Figure size 1000x700 with 1 Axes>"
            ],
            "image/png": "[encoded data removed]"
          },
          "metadata": {}
        }
      ]
    },
    {
      "cell_type": "markdown",
      "source": [
        "### 3. Train Model"
      ],
      "metadata": {
        "id": "RBTMhdMKw3V-"
      }
    },
    {
      "cell_type": "code",
      "source": [
        "# Setup a loss function\n",
        "loss_fn = nn.L1Loss()\n",
        "\n",
        "# Setup an optimizer (Stochastic Gradient Descent)\n",
        "optimizer = torch.optim.SGD(params = model_0.parameters(),\n",
        "                            lr=0.01)"
      ],
      "metadata": {
        "id": "yMjzeH9rvXDE"
      },
      "execution_count": null,
      "outputs": []
    },
    {
      "cell_type": "markdown",
      "source": [
        "### Building a training loop (and a testing loop) in Python\n",
        "\n",
        "A couple of things we need in a training loop:\n",
        "\n",
        "1.   Loop through the data\n",
        "2.   Forward pass ( this involves data moving through our model's `forward()` functions) to make predcitions on data - also  called forward propagation\n",
        "3.   Calculate the loss\n",
        "4.   Optimizer zero grad\n",
        "5.   Loss backward - move backwards through the network to calculate the gradients of each of the parameters of the loss(**backprop**)\n",
        "6.   Optimizer step - use the optimizer to adjust our model's parameters to try and improve the loss (**gradient descent**)\n",
        "\n"
      ],
      "metadata": {
        "id": "OVwtASlUyWup"
      }
    },
    {
      "cell_type": "code",
      "source": [
        "torch.manual_seed(42)\n",
        "# An epoch is one loop through the data...(this is an hyperparameter)\n",
        "epochs = 200\n",
        "\n",
        "# Track different values\n",
        "epoch_count = []\n",
        "loss_values = []\n",
        "test_loss_values = []\n",
        "\n",
        "# 0. Loop through the data\n",
        "for epoch in range(epochs):\n",
        "  # set the model to training mode\n",
        "  model_0.train() # train mode in PyTorch sets all parameters to require gradients\n",
        "\n",
        "  # 1. Forward pass\n",
        "  y_pred = model_0(X_train)\n",
        "\n",
        "  # 2. Calculate the loss\n",
        "  loss = loss_fn(y_pred, y_train)\n",
        "  # print(f\"Loss: {loss}\")\n",
        "\n",
        "  # 3. Optimizer zero grad (zero the gradients of the optimizer because the accumulate by default)\n",
        "  optimizer.zero_grad()\n",
        "\n",
        "  # 4. Perform backpropagation on the loss with respect to the parameters of the model\n",
        "  loss.backward()\n",
        "\n",
        "  # 5. Step the optimzer (perform gradient descent)\n",
        "  optimizer.step() # by default how the optimizer changes will accumulate through the loop so ... we have to zero them in step 3 for the next iteration of the loop\n",
        "\n",
        "  # Testing\n",
        "  model_0.eval() # turns off gradient tracking (for dropout, batch-norm)\n",
        "  with torch.inference_mode():\n",
        "    # 1. Do the forward pass\n",
        "    test_pred = model_0(X_test)\n",
        "\n",
        "    # 2. Calculate the loss\n",
        "    test_loss = loss_fn(test_pred, y_test)\n",
        "    if epoch % 10 == 0:\n",
        "      epoch_count.append(epoch)\n",
        "      loss_values.append(loss)\n",
        "      test_loss_values.append(test_loss)\n",
        "      print(f\"Epoch: {epoch} Loss: {loss} | Test loss: {test_loss}\")\n",
        "  # print out model state_dict()\n",
        "  # print(model_0.state_dict())\n"
      ],
      "metadata": {
        "colab": {
          "base_uri": "https://localhost:8080/"
        },
        "id": "brOeSv6lyUzw",
        "outputId": "b90913b3-15b1-4ffe-8396-a55157385c83"
      },
      "execution_count": null,
      "outputs": [
        {
          "output_type": "stream",
          "name": "stdout",
          "text": [
            "Epoch: 0 Loss: 0.31288138031959534 | Test loss: 0.48106518387794495\n",
            "Epoch: 10 Loss: 0.1976713240146637 | Test loss: 0.3463551998138428\n",
            "Epoch: 20 Loss: 0.08908725529909134 | Test loss: 0.21729660034179688\n",
            "Epoch: 30 Loss: 0.053148526698350906 | Test loss: 0.14464017748832703\n",
            "Epoch: 40 Loss: 0.04543796554207802 | Test loss: 0.11360953003168106\n",
            "Epoch: 50 Loss: 0.04167863354086876 | Test loss: 0.09919948130846024\n",
            "Epoch: 60 Loss: 0.03818932920694351 | Test loss: 0.08886633068323135\n",
            "Epoch: 70 Loss: 0.03476089984178543 | Test loss: 0.0805937647819519\n",
            "Epoch: 80 Loss: 0.03132382780313492 | Test loss: 0.07232122868299484\n",
            "Epoch: 90 Loss: 0.02788739837706089 | Test loss: 0.06473556160926819\n",
            "Epoch: 100 Loss: 0.024458957836031914 | Test loss: 0.05646304413676262\n",
            "Epoch: 110 Loss: 0.021020207554101944 | Test loss: 0.04819049686193466\n",
            "Epoch: 120 Loss: 0.01758546568453312 | Test loss: 0.04060482233762741\n",
            "Epoch: 130 Loss: 0.014155393466353416 | Test loss: 0.03233227878808975\n",
            "Epoch: 140 Loss: 0.010716589167714119 | Test loss: 0.024059748277068138\n",
            "Epoch: 150 Loss: 0.0072835334576666355 | Test loss: 0.016474086791276932\n",
            "Epoch: 160 Loss: 0.0038517764769494534 | Test loss: 0.008201557211577892\n",
            "Epoch: 170 Loss: 0.008932482451200485 | Test loss: 0.005023092031478882\n",
            "Epoch: 180 Loss: 0.008932482451200485 | Test loss: 0.005023092031478882\n",
            "Epoch: 190 Loss: 0.008932482451200485 | Test loss: 0.005023092031478882\n"
          ]
        }
      ]
    },
    {
      "cell_type": "code",
      "source": [
        "import numpy as np\n",
        "# plot the loss curve\n",
        "plt.plot(epoch_count, torch.tensor(loss_values).detach().numpy(), label=\"Train loss\")\n",
        "plt.plot(epoch_count,test_loss_values,label=\"Test Loss\")\n",
        "plt.title(\"Training and test loss curves\")\n",
        "plt.ylabel(\"Loss\")\n",
        "plt.xlabel(\"Epochs\")\n",
        "plt.legend();"
      ],
      "metadata": {
        "colab": {
          "base_uri": "https://localhost:8080/",
          "height": 472
        },
        "id": "2PmFzGdXDX1j",
        "outputId": "bb19ddbc-8592-44b8-eee8-6bb86a889f6a"
      },
      "execution_count": null,
      "outputs": [
        {
          "output_type": "display_data",
          "data": {
            "text/plain": [
              "<Figure size 640x480 with 1 Axes>"
            ],
            "image/png": "[encoded data removed]"
          },
          "metadata": {}
        }
      ]
    },
    {
      "cell_type": "code",
      "source": [
        "with torch.inference_mode():\n",
        "  y_preds_new = model_0(X_test)"
      ],
      "metadata": {
        "id": "hozdjpae9RPA"
      },
      "execution_count": null,
      "outputs": []
    },
    {
      "cell_type": "code",
      "source": [
        "plot_predictions(predictions=y_preds_new)"
      ],
      "metadata": {
        "colab": {
          "base_uri": "https://localhost:8080/",
          "height": 460
        },
        "id": "eDDoFIgW-TjE",
        "outputId": "636d7455-bb87-415a-bb75-b965c547d952"
      },
      "execution_count": null,
      "outputs": [
        {
          "output_type": "display_data",
          "data": {
            "text/plain": [
              "<Figure size 1000x700 with 1 Axes>"
            ],
            "image/png": "[encoded data removed]"
          },
          "metadata": {}
        }
      ]
    },
    {
      "cell_type": "markdown",
      "source": [
        "### Saving the Model\n",
        "\n",
        "There are three main methods for saving and loading models\n",
        "\n",
        "\n",
        "\n",
        "1.   `torch.save()` - allows you to save a PyTorch object in Pyhton's pickle format\n",
        "2.   `torch.load()` - allows you to load a saved PyTorch object\n",
        "3.   `torch.nn.Module.load_state_dict()` - this allows to load a model's saved state dictionary\n",
        "\n"
      ],
      "metadata": {
        "id": "kjxVtYoGBZ2r"
      }
    },
    {
      "cell_type": "code",
      "source": [
        "# Saving the model\n",
        "from pathlib import Path\n",
        "\n",
        "# 1. Create models dictionary\n",
        "MODEL_PATH = Path(\"models\")\n",
        "MODEL_PATH.mkdir(parents=True, exist_ok=True)\n",
        "\n",
        "# 2. Create model save path\n",
        "MODEL_NAME = \"01_pytorch_workflow_model_0.pth\"\n",
        "MODEL_SAVE_PATH = MODEL_PATH / MODEL_NAME\n",
        "\n",
        "# 3. Save the model state dict\n",
        "print(f\"Saving model to: {MODEL_SAVE_PATH}\")\n",
        "torch.save(obj=model_0.state_dict(),\n",
        "           f=MODEL_SAVE_PATH)"
      ],
      "metadata": {
        "colab": {
          "base_uri": "https://localhost:8080/"
        },
        "id": "_X7fgQ8a-c8c",
        "outputId": "7c776239-67fc-4a10-b480-96fcfa9cde18"
      },
      "execution_count": null,
      "outputs": [
        {
          "output_type": "stream",
          "name": "stdout",
          "text": [
            "Saving model to: models/01_pytorch_workflow_model_0.pth\n"
          ]
        }
      ]
    },
    {
      "cell_type": "code",
      "source": [
        "!ls -l models"
      ],
      "metadata": {
        "colab": {
          "base_uri": "https://localhost:8080/"
        },
        "id": "MORzY0XLUE4j",
        "outputId": "b8e701c9-9dbc-44f8-d60a-014af3e242b4"
      },
      "execution_count": null,
      "outputs": [
        {
          "output_type": "stream",
          "name": "stdout",
          "text": [
            "total 4\n",
            "-rw-r--r-- 1 root root 1680 Jan  8 11:27 01_pytorch_workflow_model_0.pth\n"
          ]
        }
      ]
    },
    {
      "cell_type": "markdown",
      "source": [
        "## Loading a PyTorch model\n",
        "\n",
        "Since we saved our model's `state_dict()` rather than the entire model, we'll create a new instance of our model and load the `state_dict()`into that."
      ],
      "metadata": {
        "id": "_wgg2rIeHtu8"
      }
    },
    {
      "cell_type": "code",
      "source": [
        "# To load in a saved state_dict we have to instantiate a new instance of our model class\n",
        "loaded_model_0 = LinearRegressionModel()\n",
        "\n",
        "# Load the saved state_dict() of model_0 ( htis wil update the new instance with updated parameters)\n",
        "loaded_model_0.load_state_dict(torch.load(f=MODEL_SAVE_PATH))"
      ],
      "metadata": {
        "colab": {
          "base_uri": "https://localhost:8080/"
        },
        "id": "QUMXWtEJGSyh",
        "outputId": "dc2e4fbc-e618-4485-eccd-33a7a4e3930f"
      },
      "execution_count": null,
      "outputs": [
        {
          "output_type": "execute_result",
          "data": {
            "text/plain": [
              "<All keys matched successfully>"
            ]
          },
          "metadata": {},
          "execution_count": 220
        }
      ]
    },
    {
      "cell_type": "code",
      "source": [
        "loaded_model_0.state_dict()"
      ],
      "metadata": {
        "colab": {
          "base_uri": "https://localhost:8080/"
        },
        "id": "DqYzSGMhIiNR",
        "outputId": "f5f39d7a-ef48-4d6b-e8b2-326ddf3d8e96"
      },
      "execution_count": null,
      "outputs": [
        {
          "output_type": "execute_result",
          "data": {
            "text/plain": [
              "OrderedDict([('weights', tensor([0.6990])), ('bias', tensor([0.3093]))])"
            ]
          },
          "metadata": {},
          "execution_count": 221
        }
      ]
    },
    {
      "cell_type": "code",
      "source": [
        "# Make some predictions with our loaded model\n",
        "loaded_model_0.eval()\n",
        "with torch.inference_mode():\n",
        "  loaded_model_preds = loaded_model_0(X_test)\n",
        "\n",
        "loaded_model_preds"
      ],
      "metadata": {
        "colab": {
          "base_uri": "https://localhost:8080/"
        },
        "id": "sTHW81GTIqc7",
        "outputId": "775d1029-4961-441c-ced1-f23a7b88f77b"
      },
      "execution_count": null,
      "outputs": [
        {
          "output_type": "execute_result",
          "data": {
            "text/plain": [
              "tensor([[0.8685],\n",
              "        [0.8825],\n",
              "        [0.8965],\n",
              "        [0.9105],\n",
              "        [0.9245],\n",
              "        [0.9384],\n",
              "        [0.9524],\n",
              "        [0.9664],\n",
              "        [0.9804],\n",
              "        [0.9944]])"
            ]
          },
          "metadata": {},
          "execution_count": 222
        }
      ]
    },
    {
      "cell_type": "code",
      "source": [
        "# Compare loaded model predicitons with the original model predictions\n",
        "\n",
        "test_pred==loaded_model_preds"
      ],
      "metadata": {
        "colab": {
          "base_uri": "https://localhost:8080/"
        },
        "id": "kkkT6_QKJTUk",
        "outputId": "6da1852c-6dbd-4eac-e4a2-74a50136d852"
      },
      "execution_count": null,
      "outputs": [
        {
          "output_type": "execute_result",
          "data": {
            "text/plain": [
              "tensor([[True],\n",
              "        [True],\n",
              "        [True],\n",
              "        [True],\n",
              "        [True],\n",
              "        [True],\n",
              "        [True],\n",
              "        [True],\n",
              "        [True],\n",
              "        [True]])"
            ]
          },
          "metadata": {},
          "execution_count": 223
        }
      ]
    },
    {
      "cell_type": "markdown",
      "source": [
        "### Putting it all together"
      ],
      "metadata": {
        "id": "sEgOAR4OM6tT"
      }
    },
    {
      "cell_type": "code",
      "source": [
        "import torch\n",
        "from torch import nn\n",
        "import matplotlib.pyplot as plt\n",
        "import numpy as np"
      ],
      "metadata": {
        "id": "vFdvWpBDJfJx"
      },
      "execution_count": null,
      "outputs": []
    },
    {
      "cell_type": "markdown",
      "source": [
        "### 1. Data"
      ],
      "metadata": {
        "id": "s_h621I-NOdJ"
      }
    },
    {
      "cell_type": "code",
      "source": [
        "torch.manual_seed(1234)\n",
        "X = torch.rand((7,2))\n",
        "X"
      ],
      "metadata": {
        "colab": {
          "base_uri": "https://localhost:8080/"
        },
        "id": "Xo0p02TrNNWv",
        "outputId": "8899cf6c-fe51-4a5f-f9c6-d8fef402b169"
      },
      "execution_count": null,
      "outputs": [
        {
          "output_type": "execute_result",
          "data": {
            "text/plain": [
              "tensor([[0.0290, 0.4019],\n",
              "        [0.2598, 0.3666],\n",
              "        [0.0583, 0.7006],\n",
              "        [0.0518, 0.4681],\n",
              "        [0.6738, 0.3315],\n",
              "        [0.7837, 0.5631],\n",
              "        [0.7749, 0.8208]])"
            ]
          },
          "metadata": {},
          "execution_count": 225
        }
      ]
    },
    {
      "cell_type": "code",
      "source": [
        "weight = torch.tensor([0.2,0.3],dtype=torch.float32)\n",
        "bias = torch.tensor([0.1])\n",
        "y = torch.matmul(X,weight.T)+ bias\n",
        "y = torch.unsqueeze(y,1)"
      ],
      "metadata": {
        "id": "zrd_tGCNOOS6"
      },
      "execution_count": null,
      "outputs": []
    },
    {
      "cell_type": "code",
      "source": [
        "# Splitting the dataset\n",
        "train_size = int(0.7*len(X))\n",
        "X_train = X[:train_size]\n",
        "y_train = y[:train_size]\n",
        "X_test = X[train_size:]\n",
        "y_test = y[train_size:]\n",
        "\n",
        "X_train, y_train, X_test, y_test"
      ],
      "metadata": {
        "colab": {
          "base_uri": "https://localhost:8080/"
        },
        "id": "WcnQ6yGkPKKi",
        "outputId": "815ee32e-42bf-42bc-991b-feda7fffb1a5"
      },
      "execution_count": null,
      "outputs": [
        {
          "output_type": "execute_result",
          "data": {
            "text/plain": [
              "(tensor([[0.0290, 0.4019],\n",
              "         [0.2598, 0.3666],\n",
              "         [0.0583, 0.7006],\n",
              "         [0.0518, 0.4681]]),\n",
              " tensor([[0.2264],\n",
              "         [0.2620],\n",
              "         [0.3219],\n",
              "         [0.2508]]),\n",
              " tensor([[0.6738, 0.3315],\n",
              "         [0.7837, 0.5631],\n",
              "         [0.7749, 0.8208]]),\n",
              " tensor([[0.3342],\n",
              "         [0.4257],\n",
              "         [0.5012]]))"
            ]
          },
          "metadata": {},
          "execution_count": 227
        }
      ]
    },
    {
      "cell_type": "code",
      "source": [
        "len(X_train),len(y_train),len(X_test),len(y_test)"
      ],
      "metadata": {
        "colab": {
          "base_uri": "https://localhost:8080/"
        },
        "id": "mHKORRlc2OSU",
        "outputId": "3ddc54fa-57e9-4f10-e648-14dc1ecd16aa"
      },
      "execution_count": null,
      "outputs": [
        {
          "output_type": "execute_result",
          "data": {
            "text/plain": [
              "(4, 4, 3, 3)"
            ]
          },
          "metadata": {},
          "execution_count": 228
        }
      ]
    },
    {
      "cell_type": "markdown",
      "source": [
        "### 2. Model"
      ],
      "metadata": {
        "id": "rOdoIZn9w3o9"
      }
    },
    {
      "cell_type": "code",
      "source": [
        "class LinearModel(nn.Module):\n",
        "  def __init__(self):\n",
        "    super().__init__()\n",
        "    self.weights = nn.Parameter(torch.randn((1,2)), requires_grad=True)\n",
        "    self.bias = nn.Parameter(torch.randn(1), requires_grad=True)\n",
        "  def forward(self, x):\n",
        "    y_pred = torch.matmul(x,self.weights.T) + self.bias\n",
        "    # y_pred = torch.unsqueeze(y_pred,1)\n",
        "    return y_pred"
      ],
      "metadata": {
        "id": "jUz7luV6QJTl"
      },
      "execution_count": null,
      "outputs": []
    },
    {
      "cell_type": "code",
      "source": [
        "torch.manual_seed(42)\n",
        "model = LinearModel()\n",
        "print(list(model.parameters()))\n",
        "model.state_dict()"
      ],
      "metadata": {
        "colab": {
          "base_uri": "https://localhost:8080/"
        },
        "id": "08vyVNI214c_",
        "outputId": "5c290852-e823-40bb-8ae7-e5eb4f85f3dc"
      },
      "execution_count": null,
      "outputs": [
        {
          "output_type": "stream",
          "name": "stdout",
          "text": [
            "[Parameter containing:\n",
            "tensor([[0.3367, 0.1288]], requires_grad=True), Parameter containing:\n",
            "tensor([0.2345], requires_grad=True)]\n"
          ]
        },
        {
          "output_type": "execute_result",
          "data": {
            "text/plain": [
              "OrderedDict([('weights', tensor([[0.3367, 0.1288]])),\n",
              "             ('bias', tensor([0.2345]))])"
            ]
          },
          "metadata": {},
          "execution_count": 230
        }
      ]
    },
    {
      "cell_type": "markdown",
      "source": [
        "### 3. Training the model"
      ],
      "metadata": {
        "id": "5ogcuY-Y6VuM"
      }
    },
    {
      "cell_type": "code",
      "source": [
        "# Loss function\n",
        "loss_fn = nn.MSELoss()\n",
        "\n",
        "# Optimizer\n",
        "optimizer = torch.optim.SGD(model.parameters(), lr=0.1)\n",
        "\n",
        "# Epochs\n",
        "Epochs = 600\n",
        "\n",
        "epoch_count=[]\n",
        "loss_values=[]\n",
        "test_loss_values=[]\n",
        "\n",
        "for epoch in range(Epochs):\n",
        "  model.train()\n",
        "\n",
        "  #forward pass\n",
        "  y_pred = model(X_train)\n",
        "  # Loss\n",
        "  loss = loss_fn(y_pred,y_train)\n",
        "\n",
        "  optimizer.zero_grad()\n",
        "\n",
        "  # Backprop\n",
        "  loss.backward()\n",
        "\n",
        "  # Update parameters\n",
        "  optimizer.step()\n",
        "\n",
        "  model.eval()\n",
        "  with torch.inference_mode():\n",
        "    test_pred = model(X_test)\n",
        "    test_loss = loss_fn(test_pred,y_test)\n",
        "\n",
        "    if epoch%10 == 0:\n",
        "      epoch_count.append(epoch)\n",
        "      loss_values.append(loss)\n",
        "      test_loss_values.append(test_loss)\n",
        "      print(f\"Epoch: {epoch} Loss: {loss} Test Loss: {test_loss}\")\n"
      ],
      "metadata": {
        "colab": {
          "base_uri": "https://localhost:8080/"
        },
        "id": "4Lge8k-C5OJA",
        "outputId": "afeaf4ec-0437-4d68-c63c-126580e95e13"
      },
      "execution_count": null,
      "outputs": [
        {
          "output_type": "stream",
          "name": "stdout",
          "text": [
            "Epoch: 0 Loss: 0.005154542624950409 Test Loss: 0.015497160144150257\n",
            "Epoch: 10 Loss: 0.001019480754621327 Test Loss: 0.005880225915461779\n",
            "Epoch: 20 Loss: 0.0009395049419254065 Test Loss: 0.005140660796314478\n",
            "Epoch: 30 Loss: 0.0008770025451667607 Test Loss: 0.004771854262799025\n",
            "Epoch: 40 Loss: 0.0008186946506612003 Test Loss: 0.00444513326510787\n",
            "Epoch: 50 Loss: 0.0007642642594873905 Test Loss: 0.00414145877584815\n",
            "Epoch: 60 Loss: 0.0007134517654776573 Test Loss: 0.0038583960849791765\n",
            "Epoch: 70 Loss: 0.0006660193903371692 Test Loss: 0.003594512352719903\n",
            "Epoch: 80 Loss: 0.0006217396585270762 Test Loss: 0.003348513273522258\n",
            "Epoch: 90 Loss: 0.0005804049433209002 Test Loss: 0.0031191930174827576\n",
            "Epoch: 100 Loss: 0.0005418180371634662 Test Loss: 0.0029054295737296343\n",
            "Epoch: 110 Loss: 0.0005057975649833679 Test Loss: 0.0027061759028583765\n",
            "Epoch: 120 Loss: 0.000472171523142606 Test Loss: 0.00252044596709311\n",
            "Epoch: 130 Loss: 0.0004407814412843436 Test Loss: 0.0023473380133509636\n",
            "Epoch: 140 Loss: 0.0004114785115234554 Test Loss: 0.0021859968546777964\n",
            "Epoch: 150 Loss: 0.00038412405410781503 Test Loss: 0.0020356259774416685\n",
            "Epoch: 160 Loss: 0.0003585880622267723 Test Loss: 0.0018954887054860592\n",
            "Epoch: 170 Loss: 0.0003347501624375582 Test Loss: 0.0017648893408477306\n",
            "Epoch: 180 Loss: 0.0003124969662167132 Test Loss: 0.0016431872500106692\n",
            "Epoch: 190 Loss: 0.00029172413633204997 Test Loss: 0.0015297828940674663\n",
            "Epoch: 200 Loss: 0.00027233175933361053 Test Loss: 0.0014241128228604794\n",
            "Epoch: 210 Loss: 0.00025422911858186126 Test Loss: 0.0013256510719656944\n",
            "Epoch: 220 Loss: 0.00023732992121949792 Test Loss: 0.0012339120730757713\n",
            "Epoch: 230 Loss: 0.00022155418992042542 Test Loss: 0.0011484420392662287\n",
            "Epoch: 240 Loss: 0.00020682785543613136 Test Loss: 0.0010688159381970763\n",
            "Epoch: 250 Loss: 0.00019307997717987746 Test Loss: 0.00099463842343539\n",
            "Epoch: 260 Loss: 0.0001802467741072178 Test Loss: 0.000925539352465421\n",
            "Epoch: 270 Loss: 0.00016826632781885564 Test Loss: 0.0008611737284809351\n",
            "Epoch: 280 Loss: 0.0001570827153045684 Test Loss: 0.0008012201287783682\n",
            "Epoch: 290 Loss: 0.00014664260379504412 Test Loss: 0.0007453832658939064\n",
            "Epoch: 300 Loss: 0.00013689642946701497 Test Loss: 0.000693378911819309\n",
            "Epoch: 310 Loss: 0.0001277984119951725 Test Loss: 0.0006449473439715803\n",
            "Epoch: 320 Loss: 0.00011930504842894152 Test Loss: 0.0005998479318805039\n",
            "Epoch: 330 Loss: 0.00011137667752336711 Test Loss: 0.0005578513373620808\n",
            "Epoch: 340 Loss: 0.00010397494042990729 Test Loss: 0.0005187489441595972\n",
            "Epoch: 350 Loss: 9.706561104394495e-05 Test Loss: 0.0004823420604225248\n",
            "Epoch: 360 Loss: 9.061563469003886e-05 Test Loss: 0.00044844753574579954\n",
            "Epoch: 370 Loss: 8.459445962216705e-05 Test Loss: 0.0004168943560216576\n",
            "Epoch: 380 Loss: 7.897357863839716e-05 Test Loss: 0.00038752207183279097\n",
            "Epoch: 390 Loss: 7.372613617917523e-05 Test Loss: 0.0003601823409553617\n",
            "Epoch: 400 Loss: 6.882792513351887e-05 Test Loss: 0.00033473604707978666\n",
            "Epoch: 410 Loss: 6.425491301342845e-05 Test Loss: 0.0003110543475486338\n",
            "Epoch: 420 Loss: 5.99863487877883e-05 Test Loss: 0.00028901570476591587\n",
            "Epoch: 430 Loss: 5.600124131888151e-05 Test Loss: 0.00026850865106098354\n",
            "Epoch: 440 Loss: 5.2281222451711074e-05 Test Loss: 0.00024942736490629613\n",
            "Epoch: 450 Loss: 4.880828419118188e-05 Test Loss: 0.00023167498875409365\n",
            "Epoch: 460 Loss: 4.556613930617459e-05 Test Loss: 0.00021515959815587848\n",
            "Epoch: 470 Loss: 4.253963925293647e-05 Test Loss: 0.00019979603530373424\n",
            "Epoch: 480 Loss: 3.971424303017557e-05 Test Loss: 0.00018550782988313586\n",
            "Epoch: 490 Loss: 3.707677751663141e-05 Test Loss: 0.0001722179149510339\n",
            "Epoch: 500 Loss: 3.461458982201293e-05 Test Loss: 0.00015985892969183624\n",
            "Epoch: 510 Loss: 3.231600931030698e-05 Test Loss: 0.0001483668602304533\n",
            "Epoch: 520 Loss: 3.017010385519825e-05 Test Loss: 0.00013768156350124627\n",
            "Epoch: 530 Loss: 2.8166952688479796e-05 Test Loss: 0.00012774790229741484\n",
            "Epoch: 540 Loss: 2.6296826035832055e-05 Test Loss: 0.00011851315503008664\n",
            "Epoch: 550 Loss: 2.455108187859878e-05 Test Loss: 0.00010992964962497354\n",
            "Epoch: 560 Loss: 2.2921387426322326e-05 Test Loss: 0.00010195228969678283\n",
            "Epoch: 570 Loss: 2.139991738658864e-05 Test Loss: 9.45395659073256e-05\n",
            "Epoch: 580 Loss: 1.9979639546363614e-05 Test Loss: 8.765098755247891e-05\n",
            "Epoch: 590 Loss: 1.8653687220648862e-05 Test Loss: 8.125137537717819e-05\n"
          ]
        }
      ]
    },
    {
      "cell_type": "code",
      "source": [
        "model.state_dict()"
      ],
      "metadata": {
        "colab": {
          "base_uri": "https://localhost:8080/"
        },
        "id": "g8eLQo0J-Z_T",
        "outputId": "d3bf508f-81ef-421d-8031-22cada61187d"
      },
      "execution_count": null,
      "outputs": [
        {
          "output_type": "execute_result",
          "data": {
            "text/plain": [
              "OrderedDict([('weights', tensor([[0.2147, 0.2740]])),\n",
              "             ('bias', tensor([0.1113]))])"
            ]
          },
          "metadata": {},
          "execution_count": 232
        }
      ]
    },
    {
      "cell_type": "code",
      "source": [
        "import numpy as np\n",
        "# plot the loss curve\n",
        "plt.plot(epoch_count, torch.tensor(loss_values).detach().numpy(), label=\"Train loss\")\n",
        "plt.plot(epoch_count,test_loss_values,label=\"Test Loss\")\n",
        "plt.title(\"Training and test loss curves\")\n",
        "plt.ylabel(\"Loss\")\n",
        "plt.xlabel(\"Epochs\")\n",
        "plt.legend();"
      ],
      "metadata": {
        "colab": {
          "base_uri": "https://localhost:8080/",
          "height": 472
        },
        "id": "FDKbghDD-sd8",
        "outputId": "8c863616-685b-4eb2-c431-ed2b6e249514"
      },
      "execution_count": null,
      "outputs": [
        {
          "output_type": "display_data",
          "data": {
            "text/plain": [
              "<Figure size 640x480 with 1 Axes>"
            ],
            "image/png": "[encoded data removed]"
          },
          "metadata": {}
        }
      ]
    },
    {
      "cell_type": "code",
      "source": [
        "with torch.inference_mode():\n",
        "  pred = model(X_test)\n",
        "print(pred)"
      ],
      "metadata": {
        "colab": {
          "base_uri": "https://localhost:8080/"
        },
        "id": "2RkLwfZI_XZn",
        "outputId": "a6e7fbe0-0d67-45ff-d0d4-632a5c151142"
      },
      "execution_count": null,
      "outputs": [
        {
          "output_type": "stream",
          "name": "stdout",
          "text": [
            "tensor([[0.3468],\n",
            "        [0.4339],\n",
            "        [0.5026]])\n"
          ]
        }
      ]
    },
    {
      "cell_type": "code",
      "source": [
        "print(y_test)"
      ],
      "metadata": {
        "colab": {
          "base_uri": "https://localhost:8080/"
        },
        "id": "RCtFKABHBnSi",
        "outputId": "ea185e6e-3f22-4667-e663-8c0ee9f28820"
      },
      "execution_count": null,
      "outputs": [
        {
          "output_type": "stream",
          "name": "stdout",
          "text": [
            "tensor([[0.3342],\n",
            "        [0.4257],\n",
            "        [0.5012]])\n"
          ]
        }
      ]
    },
    {
      "cell_type": "code",
      "source": [
        "# Import PyTorch and matplotlib\n",
        "\n",
        "import torch\n",
        "from torch import nn\n",
        "import matplotlib.pyplot as plt\n",
        "\n",
        "# Check PyTorch version\n",
        "torch.__version__"
      ],
      "metadata": {
        "colab": {
          "base_uri": "https://localhost:8080/",
          "height": 36
        },
        "id": "NnM0QOuKBq9z",
        "outputId": "ceb57315-ea8d-4819-b67d-b61a10f5014f"
      },
      "execution_count": null,
      "outputs": [
        {
          "output_type": "execute_result",
          "data": {
            "text/plain": [
              "'2.1.0+cu121'"
            ],
            "application/vnd.google.colaboratory.intrinsic+json": {
              "type": "string"
            }
          },
          "metadata": {},
          "execution_count": 236
        }
      ]
    },
    {
      "cell_type": "markdown",
      "source": [
        "Create device-agnostic code.\n",
        "\n",
        "This means if we've got access to GPU, our code will use it. If no GPU is available, the code will default to using CPU."
      ],
      "metadata": {
        "id": "AuNGGgtMn5eN"
      }
    },
    {
      "cell_type": "code",
      "source": [
        "# Setup device agnostic code\n",
        "device = \"cuda\" if torch.cuda.is_available() else \"cpu\"\n",
        "print(f\"Using device: {device}\")"
      ],
      "metadata": {
        "colab": {
          "base_uri": "https://localhost:8080/"
        },
        "id": "n6gZJSAony0c",
        "outputId": "74e3dc42-12b0-47b5-d92e-1f615cb9e08a"
      },
      "execution_count": null,
      "outputs": [
        {
          "output_type": "stream",
          "name": "stdout",
          "text": [
            "Using device: cuda\n"
          ]
        }
      ]
    },
    {
      "cell_type": "markdown",
      "source": [
        "### Data"
      ],
      "metadata": {
        "id": "hS4AI3Iyo42n"
      }
    },
    {
      "cell_type": "code",
      "source": [
        "weight = 0.6\n",
        "bias = 0.2\n",
        "\n",
        "start = 0\n",
        "end = 1\n",
        "step = 0.02\n",
        "\n",
        "# Create X and y\n",
        "X = torch.arange(start, end, step).unsqueeze(dim=1)\n",
        "y = weight*X + bias\n",
        "X[:10],y[:10]"
      ],
      "metadata": {
        "colab": {
          "base_uri": "https://localhost:8080/"
        },
        "id": "hfWYTwqVofEW",
        "outputId": "6455f8b9-48e3-4168-b2a0-62bfa2264dbc"
      },
      "execution_count": null,
      "outputs": [
        {
          "output_type": "execute_result",
          "data": {
            "text/plain": [
              "(tensor([[0.0000],\n",
              "         [0.0200],\n",
              "         [0.0400],\n",
              "         [0.0600],\n",
              "         [0.0800],\n",
              "         [0.1000],\n",
              "         [0.1200],\n",
              "         [0.1400],\n",
              "         [0.1600],\n",
              "         [0.1800]]),\n",
              " tensor([[0.2000],\n",
              "         [0.2120],\n",
              "         [0.2240],\n",
              "         [0.2360],\n",
              "         [0.2480],\n",
              "         [0.2600],\n",
              "         [0.2720],\n",
              "         [0.2840],\n",
              "         [0.2960],\n",
              "         [0.3080]]))"
            ]
          },
          "metadata": {},
          "execution_count": 238
        }
      ]
    },
    {
      "cell_type": "code",
      "source": [
        "# Split Data\n",
        "train_split = int(0.8*len(X))\n",
        "X_train = X[:train_split]\n",
        "y_train = y[:train_split]\n",
        "X_test = X[train_split:]\n",
        "y_test = y[train_split:]\n",
        "\n",
        "X_train, y_train, X_test, y_test"
      ],
      "metadata": {
        "colab": {
          "base_uri": "https://localhost:8080/"
        },
        "id": "aHjvgMkrpxen",
        "outputId": "e8910311-68cc-425b-cda5-75389255fbec"
      },
      "execution_count": null,
      "outputs": [
        {
          "output_type": "execute_result",
          "data": {
            "text/plain": [
              "(tensor([[0.0000],\n",
              "         [0.0200],\n",
              "         [0.0400],\n",
              "         [0.0600],\n",
              "         [0.0800],\n",
              "         [0.1000],\n",
              "         [0.1200],\n",
              "         [0.1400],\n",
              "         [0.1600],\n",
              "         [0.1800],\n",
              "         [0.2000],\n",
              "         [0.2200],\n",
              "         [0.2400],\n",
              "         [0.2600],\n",
              "         [0.2800],\n",
              "         [0.3000],\n",
              "         [0.3200],\n",
              "         [0.3400],\n",
              "         [0.3600],\n",
              "         [0.3800],\n",
              "         [0.4000],\n",
              "         [0.4200],\n",
              "         [0.4400],\n",
              "         [0.4600],\n",
              "         [0.4800],\n",
              "         [0.5000],\n",
              "         [0.5200],\n",
              "         [0.5400],\n",
              "         [0.5600],\n",
              "         [0.5800],\n",
              "         [0.6000],\n",
              "         [0.6200],\n",
              "         [0.6400],\n",
              "         [0.6600],\n",
              "         [0.6800],\n",
              "         [0.7000],\n",
              "         [0.7200],\n",
              "         [0.7400],\n",
              "         [0.7600],\n",
              "         [0.7800]]),\n",
              " tensor([[0.2000],\n",
              "         [0.2120],\n",
              "         [0.2240],\n",
              "         [0.2360],\n",
              "         [0.2480],\n",
              "         [0.2600],\n",
              "         [0.2720],\n",
              "         [0.2840],\n",
              "         [0.2960],\n",
              "         [0.3080],\n",
              "         [0.3200],\n",
              "         [0.3320],\n",
              "         [0.3440],\n",
              "         [0.3560],\n",
              "         [0.3680],\n",
              "         [0.3800],\n",
              "         [0.3920],\n",
              "         [0.4040],\n",
              "         [0.4160],\n",
              "         [0.4280],\n",
              "         [0.4400],\n",
              "         [0.4520],\n",
              "         [0.4640],\n",
              "         [0.4760],\n",
              "         [0.4880],\n",
              "         [0.5000],\n",
              "         [0.5120],\n",
              "         [0.5240],\n",
              "         [0.5360],\n",
              "         [0.5480],\n",
              "         [0.5600],\n",
              "         [0.5720],\n",
              "         [0.5840],\n",
              "         [0.5960],\n",
              "         [0.6080],\n",
              "         [0.6200],\n",
              "         [0.6320],\n",
              "         [0.6440],\n",
              "         [0.6560],\n",
              "         [0.6680]]),\n",
              " tensor([[0.8000],\n",
              "         [0.8200],\n",
              "         [0.8400],\n",
              "         [0.8600],\n",
              "         [0.8800],\n",
              "         [0.9000],\n",
              "         [0.9200],\n",
              "         [0.9400],\n",
              "         [0.9600],\n",
              "         [0.9800]]),\n",
              " tensor([[0.6800],\n",
              "         [0.6920],\n",
              "         [0.7040],\n",
              "         [0.7160],\n",
              "         [0.7280],\n",
              "         [0.7400],\n",
              "         [0.7520],\n",
              "         [0.7640],\n",
              "         [0.7760],\n",
              "         [0.7880]]))"
            ]
          },
          "metadata": {},
          "execution_count": 239
        }
      ]
    },
    {
      "cell_type": "code",
      "source": [
        "plot_predictions(X_train,y_train,X_test,y_test)"
      ],
      "metadata": {
        "colab": {
          "base_uri": "https://localhost:8080/",
          "height": 460
        },
        "id": "CZVyOWWCqWQc",
        "outputId": "1f61fd37-8c19-4f7a-c065-0434da3357d8"
      },
      "execution_count": null,
      "outputs": [
        {
          "output_type": "display_data",
          "data": {
            "text/plain": [
              "<Figure size 1000x700 with 1 Axes>"
            ],
            "image/png": "[encoded data removed]"
          },
          "metadata": {}
        }
      ]
    },
    {
      "cell_type": "code",
      "source": [
        "class LinearModel2(nn.Module):\n",
        "  def __init__(self):\n",
        "    super().__init__()\n",
        "    # Use nn.Linear() for creating the model paramters\n",
        "    self.linear_layer = nn.Linear(in_features=1,out_features=1)\n",
        "\n",
        "  def forward(self, x: torch.Tensor) -> torch.Tensor:\n",
        "    return self.linear_layer(x)\n",
        "\n",
        "torch.manual_seed(42)\n",
        "model_1 = LinearModel2()\n",
        "model_1, model_1.state_dict()"
      ],
      "metadata": {
        "colab": {
          "base_uri": "https://localhost:8080/"
        },
        "id": "Zj7mjz5DtJF1",
        "outputId": "00f85ee7-60de-4712-ffe3-3c30649ad43a"
      },
      "execution_count": null,
      "outputs": [
        {
          "output_type": "execute_result",
          "data": {
            "text/plain": [
              "(LinearModel2(\n",
              "   (linear_layer): Linear(in_features=1, out_features=1, bias=True)\n",
              " ),\n",
              " OrderedDict([('linear_layer.weight', tensor([[0.7645]])),\n",
              "              ('linear_layer.bias', tensor([0.8300]))]))"
            ]
          },
          "metadata": {},
          "execution_count": 241
        }
      ]
    },
    {
      "cell_type": "code",
      "source": [
        "# Check the model current device\n",
        "next(model_1.parameters()).device"
      ],
      "metadata": {
        "colab": {
          "base_uri": "https://localhost:8080/"
        },
        "id": "vwC9H-sTvZvw",
        "outputId": "c3e298f5-cefe-4372-ef95-f078576d9b1b"
      },
      "execution_count": null,
      "outputs": [
        {
          "output_type": "execute_result",
          "data": {
            "text/plain": [
              "device(type='cpu')"
            ]
          },
          "metadata": {},
          "execution_count": 242
        }
      ]
    },
    {
      "cell_type": "code",
      "source": [
        "# set the model to use the target device\n",
        "model_1.to(device)\n",
        "next(model_1.parameters()).device"
      ],
      "metadata": {
        "colab": {
          "base_uri": "https://localhost:8080/"
        },
        "id": "9G-xOzjhwQwN",
        "outputId": "6dad94b8-5f5e-4bb1-ac6a-81a06f685b53"
      },
      "execution_count": null,
      "outputs": [
        {
          "output_type": "execute_result",
          "data": {
            "text/plain": [
              "device(type='cuda', index=0)"
            ]
          },
          "metadata": {},
          "execution_count": 243
        }
      ]
    },
    {
      "cell_type": "markdown",
      "source": [
        "### Training"
      ],
      "metadata": {
        "id": "SBUkH-yBwffZ"
      }
    },
    {
      "cell_type": "code",
      "source": [
        "# Loss function\n",
        "loss_fn = nn.L1Loss()\n",
        "\n",
        "# Optimizer\n",
        "optimizer = torch.optim.SGD(params=model_1.parameters(),lr=0.01)\n",
        "epochs=200\n",
        "\n",
        "# Put data on the target device (Data agnostic code)\n",
        "X_train = X_train.to(device)\n",
        "y_train = y_train.to(device)\n",
        "X_test = X_test.to(device)\n",
        "y_test = y_test.to(device)\n",
        "\n",
        "for epoch in range(epochs):\n",
        "  model_1.train()\n",
        "\n",
        "  # 1. Forward pass\n",
        "  y_pred=model_1(X_train)\n",
        "\n",
        "  # 2. Calculate the loss\n",
        "  loss=loss_fn(y_pred, y_train)\n",
        "\n",
        "  # 3. Optimizer zero grad\n",
        "  optimizer.zero_grad()\n",
        "\n",
        "  # 4. Perform backprop\n",
        "  loss.backward()\n",
        "\n",
        "  # 5. Optimizer step\n",
        "  optimizer.step()\n",
        "\n",
        "  ### Testing\n",
        "  model_1.eval()\n",
        "  with torch.inference_mode():\n",
        "    test_pred=model_1(X_test)\n",
        "    test_loss=loss_fn(test_pred,y_test)\n",
        "  if epoch % 10 == 0:\n",
        "    print(f\"Epoch: {epoch} | Loss: {loss} | Test loss: {test_loss}\")\n",
        "\n",
        "\n"
      ],
      "metadata": {
        "colab": {
          "base_uri": "https://localhost:8080/"
        },
        "id": "a_-uFoQawcuV",
        "outputId": "77adbd64-818a-46fc-96d6-75ebbf071ddb"
      },
      "execution_count": null,
      "outputs": [
        {
          "output_type": "stream",
          "name": "stdout",
          "text": [
            "Epoch: 0 | Loss: 0.6941779255867004 | Test loss: 0.7629762887954712\n",
            "Epoch: 10 | Loss: 0.5789680480957031 | Test loss: 0.6282663941383362\n",
            "Epoch: 20 | Loss: 0.4637582004070282 | Test loss: 0.49355655908584595\n",
            "Epoch: 30 | Loss: 0.3485483229160309 | Test loss: 0.3588466942310333\n",
            "Epoch: 40 | Loss: 0.23333846032619476 | Test loss: 0.22413687407970428\n",
            "Epoch: 50 | Loss: 0.11812856048345566 | Test loss: 0.08942705392837524\n",
            "Epoch: 60 | Loss: 0.014664086513221264 | Test loss: 0.027661234140396118\n",
            "Epoch: 70 | Loss: 0.010410388931632042 | Test loss: 0.0235457606613636\n",
            "Epoch: 80 | Loss: 0.006971580442041159 | Test loss: 0.015273267403244972\n",
            "Epoch: 90 | Loss: 0.0035398409236222506 | Test loss: 0.007687687873840332\n",
            "Epoch: 100 | Loss: 0.0036876804661005735 | Test loss: 0.012758738361299038\n",
            "Epoch: 110 | Loss: 0.0036876804661005735 | Test loss: 0.012758738361299038\n",
            "Epoch: 120 | Loss: 0.0036876804661005735 | Test loss: 0.012758738361299038\n",
            "Epoch: 130 | Loss: 0.0036876804661005735 | Test loss: 0.012758738361299038\n",
            "Epoch: 140 | Loss: 0.0036876804661005735 | Test loss: 0.012758738361299038\n",
            "Epoch: 150 | Loss: 0.0036876804661005735 | Test loss: 0.012758738361299038\n",
            "Epoch: 160 | Loss: 0.0036876804661005735 | Test loss: 0.012758738361299038\n",
            "Epoch: 170 | Loss: 0.0036876804661005735 | Test loss: 0.012758738361299038\n",
            "Epoch: 180 | Loss: 0.0036876804661005735 | Test loss: 0.012758738361299038\n",
            "Epoch: 190 | Loss: 0.0036876804661005735 | Test loss: 0.012758738361299038\n"
          ]
        }
      ]
    },
    {
      "cell_type": "code",
      "source": [
        "model_1.state_dict()"
      ],
      "metadata": {
        "colab": {
          "base_uri": "https://localhost:8080/"
        },
        "id": "KxghI0H6y5kh",
        "outputId": "a1a21da9-04c3-4649-e7bf-779fc9490945"
      },
      "execution_count": null,
      "outputs": [
        {
          "output_type": "execute_result",
          "data": {
            "text/plain": [
              "OrderedDict([('linear_layer.weight', tensor([[0.5940]], device='cuda:0')),\n",
              "             ('linear_layer.bias', tensor([0.2060], device='cuda:0'))])"
            ]
          },
          "metadata": {},
          "execution_count": 245
        }
      ]
    },
    {
      "cell_type": "code",
      "source": [
        "model_1.eval()\n",
        "with torch.inference_mode():\n",
        "  pred=model_1(X_test)\n",
        "pred"
      ],
      "metadata": {
        "colab": {
          "base_uri": "https://localhost:8080/"
        },
        "id": "JjtEGglV1KN-",
        "outputId": "0c42a4ee-1867-491b-ac7d-1537546c3e0b"
      },
      "execution_count": null,
      "outputs": [
        {
          "output_type": "execute_result",
          "data": {
            "text/plain": [
              "tensor([[0.6812],\n",
              "        [0.6931],\n",
              "        [0.7050],\n",
              "        [0.7169],\n",
              "        [0.7288],\n",
              "        [0.7407],\n",
              "        [0.7525],\n",
              "        [0.7644],\n",
              "        [0.7763],\n",
              "        [0.7882]], device='cuda:0')"
            ]
          },
          "metadata": {},
          "execution_count": 247
        }
      ]
    },
    {
      "cell_type": "code",
      "source": [
        "plot_predictions(X_train.cpu(),y_train.cpu(),X_test.cpu(),y_test.cpu(),predictions=pred.cpu())"
      ],
      "metadata": {
        "colab": {
          "base_uri": "https://localhost:8080/",
          "height": 619
        },
        "id": "JKHEPJR5ze0R",
        "outputId": "5a99a6db-dcff-48d0-d7fc-e427be9243eb"
      },
      "execution_count": null,
      "outputs": [
        {
          "output_type": "display_data",
          "data": {
            "text/plain": [
              "<Figure size 1000x700 with 1 Axes>"
            ],
            "image/png": "[encoded data removed]"
          },
          "metadata": {}
        }
      ]
    },
    {
      "cell_type": "markdown",
      "source": [
        "### Saving and loading model"
      ],
      "metadata": {
        "id": "Rq_fuW_g3ZRd"
      }
    },
    {
      "cell_type": "code",
      "source": [
        "from pathlib import Path\n",
        "\n",
        "# 1. Create models directory\n",
        "MODEL_PATH = Path(\"models\")\n",
        "MODEL_PATH.mkdir(parents=True, exist_ok=True)\n",
        "\n",
        "# 2. Create model save path\n",
        "MODEL_NAME= \"01_pytorch_workflow_model_1.pth\"\n",
        "MODEL_SAVE_PATH = MODEL_PATH / MODEL_NAME\n",
        "\n",
        "# 3. Save the model state dict\n",
        "print(f\"Saving model to: {MODEL_SAVE_PATH}\")\n",
        "torch.save(obj=model_1.state_dict(),f=MODEL_SAVE_PATH)"
      ],
      "metadata": {
        "colab": {
          "base_uri": "https://localhost:8080/"
        },
        "id": "i4YBD7JNz8gn",
        "outputId": "1eece3b9-fb42-4dc1-996f-d461579e1686"
      },
      "execution_count": null,
      "outputs": [
        {
          "output_type": "stream",
          "name": "stdout",
          "text": [
            "Saving model to: models/01_pytorch_workflow_model_1.pth\n"
          ]
        }
      ]
    },
    {
      "cell_type": "code",
      "source": [
        "# Loading the model\n",
        "\n",
        "loaded_model_1 = LinearModel2()\n",
        "loaded_model_1.load_state_dict(torch.load(MODEL_SAVE_PATH))\n",
        "\n",
        "# Put the loaded model to device\n",
        "loaded_model_1.to(device)"
      ],
      "metadata": {
        "colab": {
          "base_uri": "https://localhost:8080/"
        },
        "id": "7Ce3Nm_i4QIe",
        "outputId": "f8ef6ee6-3d86-4a87-ad52-568e85ca4d78"
      },
      "execution_count": null,
      "outputs": [
        {
          "output_type": "execute_result",
          "data": {
            "text/plain": [
              "LinearModel2(\n",
              "  (linear_layer): Linear(in_features=1, out_features=1, bias=True)\n",
              ")"
            ]
          },
          "metadata": {},
          "execution_count": 251
        }
      ]
    },
    {
      "cell_type": "code",
      "source": [
        "next(loaded_model_1.parameters()).device"
      ],
      "metadata": {
        "colab": {
          "base_uri": "https://localhost:8080/"
        },
        "id": "wqhvKG2445fR",
        "outputId": "3e2260c3-c453-4c6b-d843-cb663affca02"
      },
      "execution_count": null,
      "outputs": [
        {
          "output_type": "execute_result",
          "data": {
            "text/plain": [
              "device(type='cuda', index=0)"
            ]
          },
          "metadata": {},
          "execution_count": 252
        }
      ]
    },
    {
      "cell_type": "code",
      "source": [
        "# Evaluate loaded model\n",
        "loaded_model_1.eval()\n",
        "with torch.inference_mode():\n",
        "  loaded_pred = loaded_model_1(X_test)\n",
        "plot_predictions(X_train.cpu(),y_train.cpu(),X_test.cpu(),y_test.cpu(),predictions=loaded_pred.cpu())"
      ],
      "metadata": {
        "colab": {
          "base_uri": "https://localhost:8080/",
          "height": 460
        },
        "id": "Hpx-2ZkB4_bQ",
        "outputId": "df0039e6-d292-4885-de42-1f90e22c2a45"
      },
      "execution_count": null,
      "outputs": [
        {
          "output_type": "display_data",
          "data": {
            "text/plain": [
              "<Figure size 1000x700 with 1 Axes>"
            ],
            "image/png": "[encoded data removed]"
          },
          "metadata": {}
        }
      ]
    },
    {
      "cell_type": "code",
      "source": [],
      "metadata": {
        "id": "C4oCM6Nr5jYZ"
      },
      "execution_count": null,
      "outputs": []
    }
  ]
}